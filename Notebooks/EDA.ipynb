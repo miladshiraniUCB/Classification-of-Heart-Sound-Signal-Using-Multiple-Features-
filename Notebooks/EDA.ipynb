{
 "cells": [
  {
   "cell_type": "code",
   "execution_count": 1,
   "metadata": {},
   "outputs": [],
   "source": [
    "import pandas as pd\n",
    "import os\n",
    "import numpy as np\n",
    "import seaborn as sns\n",
    "import matplotlib.pyplot as plt\n",
    "\n",
    "import librosa\n",
    "import librosa.display\n",
    "import noisereduce as nr\n",
    "\n",
    "from sklearn.model_selection import train_test_split\n",
    "from tqdm import tqdm\n",
    "\n",
    "import warnings\n",
    "warnings.filterwarnings('ignore')"
   ]
  },
  {
   "cell_type": "code",
   "execution_count": 2,
   "metadata": {},
   "outputs": [
    {
     "data": {
      "text/plain": [
       "'/Users/miladshirani/Documents/Heart-Sound-Classification-Projects/Classification-of-Heart-Sound-Signal-Using-Multiple-Features-/Notebooks'"
      ]
     },
     "execution_count": 2,
     "metadata": {},
     "output_type": "execute_result"
    }
   ],
   "source": [
    "pwd"
   ]
  },
  {
   "cell_type": "code",
   "execution_count": 12,
   "metadata": {},
   "outputs": [
    {
     "data": {
      "text/plain": [
       "dict_keys(['N_New', 'MS_New', 'MR_New', 'AS_New', 'MVP_New'])"
      ]
     },
     "execution_count": 12,
     "metadata": {},
     "output_type": "execute_result"
    }
   ],
   "source": [
    "base_path = \"/Users/miladshirani/Documents/Heart-Sound-Classification-Projects/\"\n",
    "project_path = \"Classification-of-Heart-Sound-Signal-Using-Multiple-Features-\"\n",
    "folder_path = os.path.join(base_path,project_path)\n",
    "folder_path\n",
    "data_path = os.path.join(folder_path, \"Data\")\n",
    "dataframes_train_test= os.path.join(folder_path, \"Train-Test\")\n",
    "\n",
    "\n",
    "target_audios_class = os.listdir(data_path)\n",
    "\n",
    "files = {}\n",
    "for item in target_audios_class:\n",
    "    if item != '.DS_Store':\n",
    "        file_i = os.path.join(data_path, item)\n",
    "        files[item] = os.listdir(file_i)\n",
    "files.keys()"
   ]
  },
  {
   "cell_type": "code",
   "execution_count": 15,
   "metadata": {},
   "outputs": [
    {
     "data": {
      "text/html": [
       "<div>\n",
       "<style scoped>\n",
       "    .dataframe tbody tr th:only-of-type {\n",
       "        vertical-align: middle;\n",
       "    }\n",
       "\n",
       "    .dataframe tbody tr th {\n",
       "        vertical-align: top;\n",
       "    }\n",
       "\n",
       "    .dataframe thead th {\n",
       "        text-align: right;\n",
       "    }\n",
       "</style>\n",
       "<table border=\"1\" class=\"dataframe\">\n",
       "  <thead>\n",
       "    <tr style=\"text-align: right;\">\n",
       "      <th></th>\n",
       "      <th>name</th>\n",
       "      <th>path</th>\n",
       "      <th>target</th>\n",
       "    </tr>\n",
       "  </thead>\n",
       "  <tbody>\n",
       "    <tr>\n",
       "      <th>0</th>\n",
       "      <td>New_N_180.wav</td>\n",
       "      <td>/Users/miladshirani/Documents/Heart-Sound-Clas...</td>\n",
       "      <td>N</td>\n",
       "    </tr>\n",
       "    <tr>\n",
       "      <th>1</th>\n",
       "      <td>New_N_194.wav</td>\n",
       "      <td>/Users/miladshirani/Documents/Heart-Sound-Clas...</td>\n",
       "      <td>N</td>\n",
       "    </tr>\n",
       "    <tr>\n",
       "      <th>2</th>\n",
       "      <td>New_N_143.wav</td>\n",
       "      <td>/Users/miladshirani/Documents/Heart-Sound-Clas...</td>\n",
       "      <td>N</td>\n",
       "    </tr>\n",
       "    <tr>\n",
       "      <th>3</th>\n",
       "      <td>New_N_157.wav</td>\n",
       "      <td>/Users/miladshirani/Documents/Heart-Sound-Clas...</td>\n",
       "      <td>N</td>\n",
       "    </tr>\n",
       "    <tr>\n",
       "      <th>4</th>\n",
       "      <td>New_N_037.wav</td>\n",
       "      <td>/Users/miladshirani/Documents/Heart-Sound-Clas...</td>\n",
       "      <td>N</td>\n",
       "    </tr>\n",
       "  </tbody>\n",
       "</table>\n",
       "</div>"
      ],
      "text/plain": [
       "            name                                               path target\n",
       "0  New_N_180.wav  /Users/miladshirani/Documents/Heart-Sound-Clas...      N\n",
       "1  New_N_194.wav  /Users/miladshirani/Documents/Heart-Sound-Clas...      N\n",
       "2  New_N_143.wav  /Users/miladshirani/Documents/Heart-Sound-Clas...      N\n",
       "3  New_N_157.wav  /Users/miladshirani/Documents/Heart-Sound-Clas...      N\n",
       "4  New_N_037.wav  /Users/miladshirani/Documents/Heart-Sound-Clas...      N"
      ]
     },
     "execution_count": 15,
     "metadata": {},
     "output_type": "execute_result"
    }
   ],
   "source": [
    "df = pd.DataFrame(list(zip(files.keys(), files.values())),\n",
    "                  columns = [\"data-name\", \"name\"])\n",
    "df = df.explode(\"name\").reset_index(drop = True)\n",
    "\n",
    "df[\"path\"] = df.apply(lambda x: os.path.join(data_path, \n",
    "                                                  x[\"data-name\"], \n",
    "                                                  x[\"name\"]), \n",
    "                                                  axis = 1)\n",
    "\n",
    "df[\"target\"] = df[\"data-name\"].apply(lambda x: x[:-4])\n",
    "df.drop(\"data-name\", inplace = True, axis = 1)\n",
    "df.head()"
   ]
  },
  {
   "cell_type": "code",
   "execution_count": 16,
   "metadata": {},
   "outputs": [
    {
     "data": {
      "text/plain": [
       "1000"
      ]
     },
     "execution_count": 16,
     "metadata": {},
     "output_type": "execute_result"
    }
   ],
   "source": [
    "len(df)"
   ]
  },
  {
   "cell_type": "code",
   "execution_count": 17,
   "metadata": {},
   "outputs": [
    {
     "data": {
      "image/png": "[encoded data removed]",
      "text/plain": [
       "<Figure size 432x288 with 1 Axes>"
      ]
     },
     "metadata": {
      "needs_background": "light"
     },
     "output_type": "display_data"
    }
   ],
   "source": [
    "sns.countplot(x = \"target\", data = df, color = \"tab:blue\");"
   ]
  },
  {
   "cell_type": "markdown",
   "metadata": {},
   "source": [
    "# Some Basic Visualizations"
   ]
  },
  {
   "cell_type": "code",
   "execution_count": 18,
   "metadata": {},
   "outputs": [
    {
     "data": {
      "image/png": "[encoded data removed]",
      "text/plain": [
       "<Figure size 720x360 with 1 Axes>"
      ]
     },
     "metadata": {
      "needs_background": "light"
     },
     "output_type": "display_data"
    }
   ],
   "source": [
    "example_id = 200\n",
    "audio_path = df[\"path\"].iloc[example_id]\n",
    "audio_target = df[\"target\"].iloc[example_id]\n",
    "\n",
    "x, sr = librosa.load(audio_path)\n",
    "x_reduced = nr.reduce_noise(y=x, sr=sr)\n",
    "\n",
    "plt.figure(figsize=(10, 5))\n",
    "librosa.display.waveshow(x, sr=sr, label = \"original\")\n",
    "librosa.display.waveshow(x_reduced, sr=sr, label = \"denoised\")\n",
    "plt.legend();"
   ]
  },
  {
   "cell_type": "code",
   "execution_count": 19,
   "metadata": {},
   "outputs": [
    {
     "data": {
      "image/png": "[encoded data removed]",
      "text/plain": [
       "<Figure size 1080x360 with 4 Axes>"
      ]
     },
     "metadata": {
      "needs_background": "light"
     },
     "output_type": "display_data"
    }
   ],
   "source": [
    "figs, axes = plt.subplots(ncols = 2, figsize = (15, 5))\n",
    "figs.subplots_adjust(hspace=0.4, wspace=0.3)\n",
    "\n",
    "hl = 512 # number of samples per time-step in spectrogram\n",
    "hi = 100 # Height of image\n",
    "wi = 384 # Width of image\n",
    "fmax = sr\n",
    "\n",
    "S = librosa.feature.melspectrogram(y=x, sr=sr, \n",
    "                                   n_mels=hi, fmax=fmax,\n",
    "                                   n_fft=2048, hop_length=hl)\n",
    "\n",
    "S_reduced = librosa.feature.melspectrogram(y=x_reduced, sr=sr, \n",
    "                                           n_mels=hi, fmax=fmax,\n",
    "                                           n_fft=2048, hop_length=hl)\n",
    "\n",
    "S_dB = librosa.power_to_db(S, ref=np.max)\n",
    "S_reduced_dB = librosa.power_to_db(S_reduced, ref=np.max)\n",
    "\n",
    "\n",
    "\n",
    "img_1 = librosa.display.specshow(S_dB, x_axis='time', \n",
    "                         y_axis='mel', sr=sr, \n",
    "                         fmax=fmax, ax = axes[0])\n",
    "axes[0].set(title='Linear-frequency power spectrogram (Original)')\n",
    "axes[0].label_outer()\n",
    "figs.colorbar(img_1, ax=axes[0], format=\"%+2.f dB\");\n",
    "\n",
    "img_2 = librosa.display.specshow(S_reduced_dB, x_axis='time', \n",
    "                         y_axis='mel', sr=sr, \n",
    "                         fmax=fmax, ax = axes[1])\n",
    "axes[1].set(title='Linear-frequency power spectrogram (denoised)')\n",
    "axes[1].label_outer()\n",
    "figs.colorbar(img_2, ax=axes[1], format=\"%+2.f dB\");"
   ]
  },
  {
   "cell_type": "code",
   "execution_count": 20,
   "metadata": {},
   "outputs": [
    {
     "name": "stdout",
     "output_type": "stream",
     "text": [
      "DONE\n"
     ]
    }
   ],
   "source": [
    "def time(data):\n",
    "    x, sr = librosa.load(data)\n",
    "    return len(x)/sr\n",
    "\n",
    "df[\"time\"] = df[\"path\"].apply(lambda x: time(x))\n",
    "print(\"DONE\")"
   ]
  },
  {
   "cell_type": "code",
   "execution_count": 21,
   "metadata": {},
   "outputs": [
    {
     "data": {
      "image/png": "[encoded data removed]",
      "text/plain": [
       "<Figure size 432x288 with 1 Axes>"
      ]
     },
     "metadata": {
      "needs_background": "light"
     },
     "output_type": "display_data"
    }
   ],
   "source": [
    "df[\"time\"].plot(kind = \"hist\", bins = 100);"
   ]
  },
  {
   "cell_type": "code",
   "execution_count": 22,
   "metadata": {},
   "outputs": [
    {
     "name": "stdout",
     "output_type": "stream",
     "text": [
      "3.9928798185941043\n",
      "1.1556462585034013\n"
     ]
    }
   ],
   "source": [
    "print(df[\"time\"].max())\n",
    "print(df[\"time\"].min())"
   ]
  },
  {
   "cell_type": "code",
   "execution_count": 32,
   "metadata": {},
   "outputs": [
    {
     "data": {
      "text/plain": [
       "'/Users/miladshirani/Documents/Heart-Sound-Classification-Projects/Classification-of-Heart-Sound-Signal-Using-Multiple-Features-/Data'"
      ]
     },
     "execution_count": 32,
     "metadata": {},
     "output_type": "execute_result"
    }
   ],
   "source": [
    "data_path"
   ]
  },
  {
   "cell_type": "code",
   "execution_count": 26,
   "metadata": {},
   "outputs": [
    {
     "name": "stdout",
     "output_type": "stream",
     "text": [
      "DONE\n"
     ]
    }
   ],
   "source": [
    "df = df.sample(frac = 1)\n",
    "df_path = os.path.join(dataframes_train_test, \"df.csv\")\n",
    "df.to_csv(df_path)\n",
    "print(\"DONE\")"
   ]
  },
  {
   "cell_type": "code",
   "execution_count": 27,
   "metadata": {},
   "outputs": [
    {
     "name": "stdout",
     "output_type": "stream",
     "text": [
      "DONE\n"
     ]
    }
   ],
   "source": [
    "y = df[\"target\"]\n",
    "X = df[[\"path\", \"name\"]]\n",
    "\n",
    "X_train, X_test, y_train, y_test = train_test_split(X, y, stratify=y, \n",
    "                                                   test_size = 0.2, \n",
    "                                                   random_state=42,\n",
    "                                                   shuffle = True)\n",
    "\n",
    "train = pd.concat([X_train, y_train], axis = 1)\n",
    "test = pd.concat([X_test, y_test], axis = 1)\n",
    "\n",
    "train_path = os.path.join(dataframes_train_test, \"train.csv\")\n",
    "test_path = os.path.join(dataframes_train_test, \"test.csv\")\n",
    "\n",
    "train.to_csv(train_path)\n",
    "test.to_csv(test_path)\n",
    "print(\"DONE\")"
   ]
  },
  {
   "cell_type": "markdown",
   "metadata": {},
   "source": [
    "# Mel Spectrogram"
   ]
  },
  {
   "cell_type": "code",
   "execution_count": 33,
   "metadata": {},
   "outputs": [],
   "source": [
    "def mel_spectrogram(target, data, path, sr = 16000):\n",
    "    \n",
    "    hl = 512 \n",
    "    hi = 100 \n",
    "    wi = 384 \n",
    "    fmax = sr\n",
    "    \n",
    "    spectrogrmas_path = os.path.join(folder_path, \"spectrograms\")\n",
    "\n",
    "    target_path = os.path.join(spectrogrmas_path, path, target)\n",
    "    \n",
    "    data_set = data[data[\"target\"] == target]\n",
    "    \n",
    "    for i in tqdm(range(len(data_set))):\n",
    "        \n",
    "        audio_path = data_set[\"path\"].iloc[i]\n",
    "        audio_name = data_set[\"name\"].iloc[i][:-4]\n",
    "        \n",
    "        x, _ = librosa.load(audio_path)\n",
    "        x_reduced = nr.reduce_noise(y=x, sr=sr)\n",
    "        \n",
    "        S = librosa.feature.melspectrogram(y=x_reduced, sr=sr, n_mels=hi, \n",
    "                                           fmax=fmax, hop_length=hl)\n",
    "        \n",
    "        S_dB = librosa.power_to_db(S, ref=np.max)\n",
    "        \n",
    "        img = librosa.display.specshow(S_dB, \n",
    "                                       x_axis='mel', \n",
    "                                       y_axis='time', \n",
    "                                       sr=sr, \n",
    "                                       fmax=fmax)\n",
    "        \n",
    "        \n",
    "        mel_name = audio_name + \".png\"\n",
    "        plt.tick_params(left = False, right = False , labelleft = False ,\n",
    "                labelbottom = False, bottom = False)\n",
    "        a = plt.gca()\n",
    "        # set visibility of x-axis as False\n",
    "        xax = a.axes.get_xaxis()\n",
    "        xax = xax.set_visible(False)\n",
    "  \n",
    "        # set visibility of y-axis as False\n",
    "        yax = a.axes.get_yaxis()\n",
    "        yax = yax.set_visible(False)\n",
    "        \n",
    "        plt.ioff()\n",
    "        plt.savefig(fname = os.path.join(target_path, mel_name),\n",
    "                   dpi = 400,\n",
    "                   bbox_inches = \"tight\",\n",
    "                   pad_inches = 0)\n",
    "        \n",
    "        \n",
    "        plt.close()\n",
    "        \n",
    "        \n",
    "    print(\"DONE!\") "
   ]
  },
  {
   "cell_type": "code",
   "execution_count": 34,
   "metadata": {},
   "outputs": [
    {
     "data": {
      "text/plain": [
       "['MR', 'MVP', 'N', 'MS', 'AS']"
      ]
     },
     "execution_count": 34,
     "metadata": {},
     "output_type": "execute_result"
    }
   ],
   "source": [
    "targets = list(train[\"target\"].unique())\n",
    "targets"
   ]
  },
  {
   "cell_type": "code",
   "execution_count": 35,
   "metadata": {},
   "outputs": [
    {
     "name": "stderr",
     "output_type": "stream",
     "text": [
      "\r",
      "  0%|          | 0/160 [00:00<?, ?it/s]"
     ]
    },
    {
     "name": "stdout",
     "output_type": "stream",
     "text": [
      "MR\n",
      "\n"
     ]
    },
    {
     "name": "stderr",
     "output_type": "stream",
     "text": [
      "100%|██████████| 160/160 [00:56<00:00,  2.84it/s]\n",
      "  0%|          | 0/160 [00:00<?, ?it/s]"
     ]
    },
    {
     "name": "stdout",
     "output_type": "stream",
     "text": [
      "DONE!\n",
      "MVP\n",
      "\n"
     ]
    },
    {
     "name": "stderr",
     "output_type": "stream",
     "text": [
      "100%|██████████| 160/160 [00:58<00:00,  2.74it/s]\n",
      "  0%|          | 0/160 [00:00<?, ?it/s]"
     ]
    },
    {
     "name": "stdout",
     "output_type": "stream",
     "text": [
      "DONE!\n",
      "N\n",
      "\n"
     ]
    },
    {
     "name": "stderr",
     "output_type": "stream",
     "text": [
      "100%|██████████| 160/160 [00:57<00:00,  2.79it/s]\n",
      "  0%|          | 0/160 [00:00<?, ?it/s]"
     ]
    },
    {
     "name": "stdout",
     "output_type": "stream",
     "text": [
      "DONE!\n",
      "MS\n",
      "\n"
     ]
    },
    {
     "name": "stderr",
     "output_type": "stream",
     "text": [
      "100%|██████████| 160/160 [00:57<00:00,  2.79it/s]\n",
      "  0%|          | 0/160 [00:00<?, ?it/s]"
     ]
    },
    {
     "name": "stdout",
     "output_type": "stream",
     "text": [
      "DONE!\n",
      "AS\n",
      "\n"
     ]
    },
    {
     "name": "stderr",
     "output_type": "stream",
     "text": [
      "100%|██████████| 160/160 [01:01<00:00,  2.61it/s]"
     ]
    },
    {
     "name": "stdout",
     "output_type": "stream",
     "text": [
      "DONE!\n"
     ]
    },
    {
     "name": "stderr",
     "output_type": "stream",
     "text": [
      "\n"
     ]
    }
   ],
   "source": [
    "for item in targets:\n",
    "    print(f\"{item}\\n\")\n",
    "    mel_spectrogram(target = item, data = train, path = \"train\", sr = 16000)"
   ]
  },
  {
   "cell_type": "code",
   "execution_count": null,
   "metadata": {},
   "outputs": [
    {
     "name": "stderr",
     "output_type": "stream",
     "text": [
      "\r",
      "  0%|          | 0/40 [00:00<?, ?it/s]"
     ]
    },
    {
     "name": "stdout",
     "output_type": "stream",
     "text": [
      "MR\n",
      "\n"
     ]
    },
    {
     "name": "stderr",
     "output_type": "stream",
     "text": [
      "100%|██████████| 40/40 [00:14<00:00,  2.84it/s]\n",
      "  0%|          | 0/40 [00:00<?, ?it/s]"
     ]
    },
    {
     "name": "stdout",
     "output_type": "stream",
     "text": [
      "DONE!\n",
      "MVP\n",
      "\n"
     ]
    },
    {
     "name": "stderr",
     "output_type": "stream",
     "text": [
      "100%|██████████| 40/40 [00:14<00:00,  2.78it/s]\n",
      "  0%|          | 0/40 [00:00<?, ?it/s]"
     ]
    },
    {
     "name": "stdout",
     "output_type": "stream",
     "text": [
      "DONE!\n",
      "N\n",
      "\n"
     ]
    },
    {
     "name": "stderr",
     "output_type": "stream",
     "text": [
      "100%|██████████| 40/40 [00:14<00:00,  2.77it/s]\n",
      "  0%|          | 0/40 [00:00<?, ?it/s]"
     ]
    },
    {
     "name": "stdout",
     "output_type": "stream",
     "text": [
      "DONE!\n",
      "MS\n",
      "\n"
     ]
    },
    {
     "name": "stderr",
     "output_type": "stream",
     "text": [
      " 12%|█▎        | 5/40 [00:01<00:12,  2.77it/s]"
     ]
    }
   ],
   "source": [
    "for item in targets:\n",
    "    print(f\"{item}\\n\")\n",
    "    mel_spectrogram(target = item, data = test, path = \"test\", sr = 16000)"
   ]
  },
  {
   "cell_type": "code",
   "execution_count": null,
   "metadata": {},
   "outputs": [],
   "source": []
  }
 ],
 "metadata": {
  "kernelspec": {
   "display_name": "Python (learn-env)",
   "language": "python",
   "name": "learn-env"
  },
  "language_info": {
   "codemirror_mode": {
    "name": "ipython",
    "version": 3
   },
   "file_extension": ".py",
   "mimetype": "text/x-python",
   "name": "python",
   "nbconvert_exporter": "python",
   "pygments_lexer": "ipython3",
   "version": "3.8.5"
  },
  "latex_envs": {
   "LaTeX_envs_menu_present": true,
   "autoclose": false,
   "autocomplete": true,
   "bibliofile": "biblio.bib",
   "cite_by": "apalike",
   "current_citInitial": 1,
   "eqLabelWithNumbers": true,
   "eqNumInitial": 1,
   "hotkeys": {
    "equation": "Ctrl-E",
    "itemize": "Ctrl-I"
   },
   "labels_anchors": false,
   "latex_user_defs": false,
   "report_style_numbering": false,
   "user_envs_cfg": false
  },
  "toc": {
   "base_numbering": 1,
   "nav_menu": {},
   "number_sections": true,
   "sideBar": true,
   "skip_h1_title": false,
   "title_cell": "Table of Contents",
   "title_sidebar": "Contents",
   "toc_cell": false,
   "toc_position": {},
   "toc_section_display": true,
   "toc_window_display": false
  },
  "varInspector": {
   "cols": {
    "lenName": 16,
    "lenType": 16,
    "lenVar": 40
   },
   "kernels_config": {
    "python": {
     "delete_cmd_postfix": "",
     "delete_cmd_prefix": "del ",
     "library": "var_list.py",
     "varRefreshCmd": "print(var_dic_list())"
    },
    "r": {
     "delete_cmd_postfix": ") ",
     "delete_cmd_prefix": "rm(",
     "library": "var_list.r",
     "varRefreshCmd": "cat(var_dic_list()) "
    }
   },
   "types_to_exclude": [
    "module",
    "function",
    "builtin_function_or_method",
    "instance",
    "_Feature"
   ],
   "window_display": false
  }
 },
 "nbformat": 4,
 "nbformat_minor": 4
}
