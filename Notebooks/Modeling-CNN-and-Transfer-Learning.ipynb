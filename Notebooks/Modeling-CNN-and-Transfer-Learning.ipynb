{
  "cells": [
    {
      "cell_type": "markdown",
      "metadata": {
        "id": "o-n2YcmDeyad"
      },
      "source": [
        "# Introduction"
      ]
    },
    {
      "cell_type": "markdown",
      "metadata": {
        "id": "wgcC67Aneyae"
      },
      "source": [
        "In this section, we will use the spectrograms made in the EDA notebook to train CNN models and we will present different models including transfer learning."
      ]
    },
    {
      "cell_type": "markdown",
      "metadata": {
        "id": "FGHsp6hCeyae"
      },
      "source": [
        "# Importing Libraries"
      ]
    },
    {
      "cell_type": "code",
      "execution_count": 1,
      "metadata": {
        "colab": {
          "base_uri": "https://localhost:8080/"
        },
        "id": "wHqr-wDZ4SRG",
        "outputId": "88b3a2f2-4168-40f4-e140-ac40065966e4"
      },
      "outputs": [
        {
          "output_type": "stream",
          "name": "stdout",
          "text": [
            "Mounted at /content/drive\n"
          ]
        }
      ],
      "source": [
        "from google.colab import drive\n",
        "drive.mount('/content/drive')"
      ]
    },
    {
      "cell_type": "code",
      "execution_count": 2,
      "metadata": {
        "colab": {
          "base_uri": "https://localhost:8080/"
        },
        "id": "sMK_HnyA0-EC",
        "outputId": "a118ee03-937e-46c4-9ddf-b188c90829e6"
      },
      "outputs": [
        {
          "output_type": "stream",
          "name": "stdout",
          "text": [
            "GPU is available\n"
          ]
        }
      ],
      "source": [
        "import pandas as pd\n",
        "import seaborn as sns\n",
        "import matplotlib.pyplot as plt\n",
        "import seaborn as sns\n",
        "import numpy as np\n",
        "import os \n",
        "\n",
        "\n",
        "from sklearn.preprocessing import LabelEncoder\n",
        "from sklearn.metrics import confusion_matrix, plot_confusion_matrix, classification_report\n",
        "\n",
        "import tensorflow as tf\n",
        "from tensorflow.keras import layers\n",
        "from tensorflow.keras.layers import Conv2D, MaxPooling2D, Flatten, Dense, Dropout\n",
        "from tensorflow.keras.preprocessing.image import ImageDataGenerator\n",
        "from tensorflow.keras.optimizers import RMSprop, Adam\n",
        "from tensorflow.keras.models import Sequential\n",
        "\n",
        "import warnings\n",
        "warnings.filterwarnings('ignore')\n",
        "\n",
        "print(\"GPU is\", \"available\" if tf.config.list_physical_devices('GPU') else \"NOT AVAILABLE\")\n",
        "\n",
        "\n",
        "from sklearn.metrics import ConfusionMatrixDisplay\n",
        "from sklearn.metrics import confusion_matrix\n",
        "import matplotlib.pyplot as plt"
      ]
    },
    {
      "cell_type": "code",
      "execution_count": 3,
      "metadata": {
        "colab": {
          "base_uri": "https://localhost:8080/"
        },
        "id": "udtJfMlq1NeA",
        "outputId": "1b38cb59-161f-4d96-b9d1-e0f9c128dc6d"
      },
      "outputs": [
        {
          "output_type": "stream",
          "name": "stdout",
          "text": [
            "Wed Aug 10 22:08:07 2022       \n",
            "+-----------------------------------------------------------------------------+\n",
            "| NVIDIA-SMI 460.32.03    Driver Version: 460.32.03    CUDA Version: 11.2     |\n",
            "|-------------------------------+----------------------+----------------------+\n",
            "| GPU  Name        Persistence-M| Bus-Id        Disp.A | Volatile Uncorr. ECC |\n",
            "| Fan  Temp  Perf  Pwr:Usage/Cap|         Memory-Usage | GPU-Util  Compute M. |\n",
            "|                               |                      |               MIG M. |\n",
            "|===============================+======================+======================|\n",
            "|   0  Tesla T4            Off  | 00000000:00:04.0 Off |                    0 |\n",
            "| N/A   40C    P8     9W /  70W |      3MiB / 15109MiB |      0%      Default |\n",
            "|                               |                      |                  N/A |\n",
            "+-------------------------------+----------------------+----------------------+\n",
            "                                                                               \n",
            "+-----------------------------------------------------------------------------+\n",
            "| Processes:                                                                  |\n",
            "|  GPU   GI   CI        PID   Type   Process name                  GPU Memory |\n",
            "|        ID   ID                                                   Usage      |\n",
            "|=============================================================================|\n",
            "|  No running processes found                                                 |\n",
            "+-----------------------------------------------------------------------------+\n"
          ]
        }
      ],
      "source": [
        "!nvidia-smi"
      ]
    },
    {
      "cell_type": "markdown",
      "metadata": {
        "heading_collapsed": true,
        "id": "MN10HnJrF8Ee"
      },
      "source": [
        "# Functions"
      ]
    },
    {
      "cell_type": "markdown",
      "metadata": {
        "hidden": true,
        "id": "aR-u4-Imeyaj"
      },
      "source": [
        "The function `loss_acc` is defined to take the model and returns the loss and accuracy diagrams of the model."
      ]
    },
    {
      "cell_type": "code",
      "execution_count": 4,
      "metadata": {
        "hidden": true,
        "id": "Zj9L7w0bF9lO"
      },
      "outputs": [],
      "source": [
        "def loss_acc(model):\n",
        "\n",
        "\n",
        "    fig , ax = plt.subplots(1,2)\n",
        "\n",
        "\n",
        "    test_acc = model.history.history[\"val_accuracy\"]\n",
        "    test_loss = model.history.history[\"val_loss\"]\n",
        "    train_acc = model.history.history[\"accuracy\"]\n",
        "    train_loss = model.history.history[\"loss\"]\n",
        "\n",
        "    epochs = range(1, len(test_acc) + 1)\n",
        "\n",
        "    fig.set_size_inches(20,6)\n",
        "    ax[0].plot(epochs , train_loss , label = 'Training Loss')\n",
        "    ax[0].plot(epochs , test_loss , label = 'Testing Loss')\n",
        "    ax[0].set_title('Training & Testing Loss')\n",
        "    ax[0].legend()\n",
        "    ax[0].set_xlabel(\"Epochs\")\n",
        "\n",
        "    ax[1].plot(epochs , train_acc , label = 'Training Accuracy')\n",
        "    ax[1].plot(epochs , test_acc , label = 'Testing Accuracy')\n",
        "    ax[1].set_title('Training & Testing Accuracy')\n",
        "    ax[1].legend()\n",
        "    ax[1].set_xlabel(\"Epochs\")\n",
        "    plt.show()\n"
      ]
    },
    {
      "cell_type": "code",
      "source": [
        "def extract_features(directory, sample_amount, transfer, out_size, batch_size, n_class):\n",
        "    features = np.zeros(shape=(sample_amount, out_size)) \n",
        "    labels = np.zeros(shape=(sample_amount, n_class))\n",
        "    generator = datagen.flow_from_directory(\n",
        "                                            directory, \n",
        "                                            target_size = target_size, \n",
        "                                            batch_size  = batch_size, \n",
        "                                            class_mode  ='categorical')\n",
        "    # i=0\n",
        "    for i, (inputs_batch, labels_batch) in enumerate(generator):\n",
        "        features_batch = transfer.predict(inputs_batch)\n",
        "        features[i * batch_size : (i + 1) * batch_size] = features_batch \n",
        "        labels[i * batch_size : (i + 1) * batch_size] = labels_batch\n",
        "        i = i + 1\n",
        "        if i * batch_size >= sample_amount:\n",
        "            break\n",
        "    return features, labels"
      ],
      "metadata": {
        "id": "YPs1K9TB7NNI"
      },
      "execution_count": 108,
      "outputs": []
    },
    {
      "cell_type": "markdown",
      "metadata": {
        "heading_collapsed": true,
        "id": "_58htrZZ1SXE"
      },
      "source": [
        "# Importing Train-Test data sets"
      ]
    },
    {
      "cell_type": "code",
      "execution_count": 7,
      "metadata": {
        "hidden": true,
        "id": "qs9W0iev1RCU"
      },
      "outputs": [],
      "source": [
        "base_dir = \"/content/drive/MyDrive/Classification-of-Heart-Sound-Signal-Using-Multiple-Features-/spectrograms\"\n",
        "\n",
        "train_dir = os.path.join(base_dir, 'train')\n",
        "test_dir  = os.path.join(base_dir, 'test')\n",
        "\n",
        "# Directory with training normal/abnormal spectrograms\n",
        "train_AS  = os.path.join(train_dir, 'AS')\n",
        "train_MR  = os.path.join(train_dir, 'MR')\n",
        "train_MS  = os.path.join(train_dir, 'MS')\n",
        "train_MVP = os.path.join(train_dir, 'MVP')\n",
        "train_N   = os.path.join(train_dir, 'N')\n",
        "\n",
        "\n",
        "\n",
        "# Directory with test normal/abnormal spectrograms\n",
        "\n",
        "test_AS  = os.path.join(test_dir, 'AS')\n",
        "test_MR  = os.path.join(test_dir, 'MR')\n",
        "test_MS  = os.path.join(test_dir, 'MS')\n",
        "test_MVP = os.path.join(test_dir, 'MVP')\n",
        "test_N   = os.path.join(test_dir, 'N')\n"
      ]
    },
    {
      "cell_type": "code",
      "execution_count": 97,
      "metadata": {
        "colab": {
          "base_uri": "https://localhost:8080/"
        },
        "hidden": true,
        "id": "UbyN-DX01f-0",
        "outputId": "e28de64f-bbf1-4f41-c569-43ef26286965"
      },
      "outputs": [
        {
          "output_type": "stream",
          "name": "stdout",
          "text": [
            "Found 800 images belonging to 5 classes.\n",
            "Found 200 images belonging to 5 classes.\n"
          ]
        }
      ],
      "source": [
        "# All images will be rescaled by 1./255.\n",
        "\n",
        "batch_size = 5\n",
        "\n",
        "train_datagen = ImageDataGenerator( rescale = 1.0/255, dtype= tf.float64)\n",
        "test_datagen  = ImageDataGenerator( rescale = 1.0/255, dtype= tf.float64)\n",
        "\n",
        "target_size = (150, 150)\n",
        "train_generator = train_datagen.flow_from_directory(train_dir,\n",
        "                                                    batch_size=batch_size,\n",
        "                                                    class_mode=\"categorical\",\n",
        "                                                    shuffle = False,\n",
        "                                                    target_size=target_size)     \n",
        "\n",
        "validation_generator =  test_datagen.flow_from_directory(test_dir,\n",
        "                                                         batch_size=batch_size,\n",
        "                                                         class_mode  = \"categorical\",\n",
        "                                                         shuffle = False,\n",
        "                                                         target_size = target_size)"
      ]
    },
    {
      "cell_type": "markdown",
      "metadata": {
        "id": "WfpEEd9Keyal"
      },
      "source": [
        "# Modeling"
      ]
    },
    {
      "cell_type": "markdown",
      "metadata": {
        "id": "YTZRkSQoeyam"
      },
      "source": [
        "In this section, we will present some CNN based models and we will use some transfer learning models to be used in this work."
      ]
    },
    {
      "cell_type": "markdown",
      "metadata": {
        "heading_collapsed": true,
        "id": "Pq-2-_-reyam"
      },
      "source": [
        "## Convolutional Neural Network"
      ]
    },
    {
      "cell_type": "markdown",
      "metadata": {
        "hidden": true,
        "id": "lsGCgptWeyam"
      },
      "source": [
        "In this section, we will present the CNN based models."
      ]
    },
    {
      "cell_type": "markdown",
      "metadata": {
        "heading_collapsed": true,
        "hidden": true,
        "id": "28rXyqHnFlCq"
      },
      "source": [
        "### First Model"
      ]
    },
    {
      "cell_type": "code",
      "execution_count": 98,
      "metadata": {
        "colab": {
          "base_uri": "https://localhost:8080/"
        },
        "hidden": true,
        "id": "SsYkZ_UJFkMf",
        "outputId": "d2889a0b-3534-4623-9b58-cb55b7b4703a"
      },
      "outputs": [
        {
          "output_type": "stream",
          "name": "stdout",
          "text": [
            "Model: \"sequential_4\"\n",
            "_________________________________________________________________\n",
            " Layer (type)                Output Shape              Param #   \n",
            "=================================================================\n",
            " conv2d_4 (Conv2D)           (None, 148, 148, 32)      896       \n",
            "                                                                 \n",
            " max_pooling2d_4 (MaxPooling  (None, 74, 74, 32)       0         \n",
            " 2D)                                                             \n",
            "                                                                 \n",
            " flatten_4 (Flatten)         (None, 175232)            0         \n",
            "                                                                 \n",
            " dense_8 (Dense)             (None, 64)                11214912  \n",
            "                                                                 \n",
            " dense_9 (Dense)             (None, 5)                 325       \n",
            "                                                                 \n",
            "=================================================================\n",
            "Total params: 11,216,133\n",
            "Trainable params: 11,216,133\n",
            "Non-trainable params: 0\n",
            "_________________________________________________________________\n"
          ]
        }
      ],
      "source": [
        "model_1 = tf.keras.models.Sequential([\n",
        "    # Note the input shape is the desired size of the image 150x150 with 3 bytes color\n",
        "    tf.keras.layers.Conv2D(32, (3,3), activation='relu', \n",
        "                           input_shape=(target_size[0], target_size[1], 3)),\n",
        "    tf.keras.layers.MaxPooling2D(2,2),\n",
        "    tf.keras.layers.Flatten(), \n",
        "    tf.keras.layers.Dense(64, activation='relu'), \n",
        "    tf.keras.layers.Dense(5, activation='softmax')  \n",
        "])\n",
        "model_1.summary()"
      ]
    },
    {
      "cell_type": "code",
      "execution_count": 99,
      "metadata": {
        "colab": {
          "base_uri": "https://localhost:8080/"
        },
        "hidden": true,
        "id": "T-AFFD72Fxsi",
        "outputId": "2e08f1fc-a2fc-46c1-9da9-023cf141cf5d"
      },
      "outputs": [
        {
          "output_type": "stream",
          "name": "stdout",
          "text": [
            "Epoch 1/15\n",
            "160/160 [==============================] - 38s 228ms/step - loss: 1.0430 - accuracy: 0.7150 - val_loss: 0.5612 - val_accuracy: 0.7900\n",
            "Epoch 2/15\n",
            "160/160 [==============================] - 35s 217ms/step - loss: 0.4079 - accuracy: 0.8813 - val_loss: 0.2744 - val_accuracy: 0.9000\n",
            "Epoch 3/15\n",
            "160/160 [==============================] - 35s 221ms/step - loss: 0.1703 - accuracy: 0.9550 - val_loss: 0.2399 - val_accuracy: 0.9100\n",
            "Epoch 4/15\n",
            "160/160 [==============================] - 39s 241ms/step - loss: 0.0735 - accuracy: 0.9800 - val_loss: 0.1635 - val_accuracy: 0.9400\n",
            "Epoch 5/15\n",
            "160/160 [==============================] - 36s 227ms/step - loss: 0.0641 - accuracy: 0.9775 - val_loss: 0.1910 - val_accuracy: 0.9300\n",
            "Epoch 6/15\n",
            "160/160 [==============================] - 38s 236ms/step - loss: 0.0164 - accuracy: 0.9950 - val_loss: 0.1696 - val_accuracy: 0.9450\n",
            "Epoch 7/15\n",
            "160/160 [==============================] - 34s 212ms/step - loss: 0.0050 - accuracy: 1.0000 - val_loss: 0.1353 - val_accuracy: 0.9500\n",
            "Epoch 8/15\n",
            "160/160 [==============================] - 35s 219ms/step - loss: 0.0022 - accuracy: 1.0000 - val_loss: 0.1385 - val_accuracy: 0.9500\n",
            "Epoch 9/15\n",
            "160/160 [==============================] - 34s 213ms/step - loss: 0.0013 - accuracy: 1.0000 - val_loss: 0.1414 - val_accuracy: 0.9500\n",
            "Epoch 10/15\n",
            "160/160 [==============================] - 35s 222ms/step - loss: 9.3024e-04 - accuracy: 1.0000 - val_loss: 0.1464 - val_accuracy: 0.9500\n",
            "Epoch 11/15\n",
            "160/160 [==============================] - 35s 219ms/step - loss: 7.1873e-04 - accuracy: 1.0000 - val_loss: 0.1505 - val_accuracy: 0.9500\n",
            "Epoch 12/15\n",
            "160/160 [==============================] - 34s 214ms/step - loss: 5.7841e-04 - accuracy: 1.0000 - val_loss: 0.1496 - val_accuracy: 0.9500\n",
            "Epoch 13/15\n",
            "160/160 [==============================] - 34s 213ms/step - loss: 4.9163e-04 - accuracy: 1.0000 - val_loss: 0.1518 - val_accuracy: 0.9500\n",
            "Epoch 14/15\n",
            "160/160 [==============================] - 35s 216ms/step - loss: 3.9071e-04 - accuracy: 1.0000 - val_loss: 0.1530 - val_accuracy: 0.9450\n",
            "Epoch 15/15\n",
            "160/160 [==============================] - 34s 213ms/step - loss: 3.4533e-04 - accuracy: 1.0000 - val_loss: 0.1561 - val_accuracy: 0.9500\n",
            "Fitting Done\n"
          ]
        }
      ],
      "source": [
        "model_1.compile(optimizer=Adam(learning_rate=0.001),\n",
        "              loss=\"categorical_crossentropy\",\n",
        "              metrics = ['accuracy'])\n",
        "\n",
        "\n",
        "model_1.fit_generator(\n",
        "            train_generator,\n",
        "            epochs=15,\n",
        "            validation_data=validation_generator,\n",
        "           )\n",
        "print(\"Fitting Done\")"
      ]
    },
    {
      "cell_type": "code",
      "execution_count": 100,
      "metadata": {
        "colab": {
          "base_uri": "https://localhost:8080/",
          "height": 404
        },
        "hidden": true,
        "id": "B7sIO1RCQCz8",
        "outputId": "3b8106b6-8f9d-4a8f-a33c-2a98a507ea84"
      },
      "outputs": [
        {
          "output_type": "display_data",
          "data": {
            "text/plain": [
              "<Figure size 1440x432 with 2 Axes>"
            ],
            "image/png": "[encoded data removed]"
          },
          "metadata": {
            "needs_background": "light"
          }
        }
      ],
      "source": [
        "loss_acc(model_1)"
      ]
    },
    {
      "cell_type": "code",
      "source": [
        "pred = model_1.predict_generator(validation_generator)\n",
        "predicted_class = np.argmax(pred, axis = 1)\n",
        "labels = list(train_generator.class_indices.keys())\n",
        "print(classification_report(validation_generator.classes, predicted_class, \n",
        "                            target_names=labels))\n",
        "\n",
        "cf_matrix_test  = confusion_matrix(validation_generator.classes, \n",
        "                                   predicted_class)\n",
        "\n",
        "\n",
        "g = sns.heatmap(cf_matrix_test, annot=True, cmap='Blues')\n",
        "\n",
        "g.xaxis.set_ticklabels(labels)\n",
        "g.yaxis.set_ticklabels(labels)\n",
        "\n",
        "g.set_xlabel('Predicted Label', fontsize=10)\n",
        "g.set_ylabel('true Label', fontsize=10);\n"
      ],
      "metadata": {
        "id": "8Mx0EaBPduAQ",
        "colab": {
          "base_uri": "https://localhost:8080/",
          "height": 493
        },
        "outputId": "110db913-ec72-455d-c037-92e549ec974b"
      },
      "execution_count": 138,
      "outputs": [
        {
          "output_type": "stream",
          "name": "stdout",
          "text": [
            "              precision    recall  f1-score   support\n",
            "\n",
            "          AS       0.95      0.97      0.96        40\n",
            "          MR       0.95      0.88      0.91        40\n",
            "          MS       0.95      0.97      0.96        40\n",
            "         MVP       0.93      0.95      0.94        40\n",
            "           N       0.97      0.97      0.97        40\n",
            "\n",
            "    accuracy                           0.95       200\n",
            "   macro avg       0.95      0.95      0.95       200\n",
            "weighted avg       0.95      0.95      0.95       200\n",
            "\n"
          ]
        },
        {
          "output_type": "display_data",
          "data": {
            "text/plain": [
              "<Figure size 432x288 with 2 Axes>"
            ],
            "image/png": "[encoded data removed]"
          },
          "metadata": {
            "needs_background": "light"
          }
        }
      ]
    },
    {
      "cell_type": "markdown",
      "metadata": {
        "id": "RZCgWdCSeyat"
      },
      "source": [
        "## Transfer Learning"
      ]
    },
    {
      "cell_type": "markdown",
      "metadata": {
        "id": "6iNLGPBieyat"
      },
      "source": [
        "In this section, we will use transfer learning models `EfficientNetB3` and `EfficientNetB7` to train a neural network."
      ]
    },
    {
      "cell_type": "markdown",
      "source": [
        "## `EfficientNetB1`\n",
        "\n",
        "\n",
        "This worked well and put the results in the proposal."
      ],
      "metadata": {
        "id": "4WNYp9Wx7eq-"
      }
    },
    {
      "cell_type": "code",
      "source": [
        "# All images will be rescaled by 1./255.\n",
        "datagen = ImageDataGenerator( rescale = 1.0/255, dtype= tf.float64)\n",
        "batch_size = 10\n",
        "target_size = (150, 150)\n",
        "input_shape = (target_size[0], target_size[1], 3)\n",
        "\n",
        "\n",
        "\n",
        "model_name='EfficientNetB1'\n",
        "\n",
        "efficient_1=tf.keras.applications.EfficientNetB1(\n",
        "                                      include_top=False, \n",
        "                                      weights=\"imagenet\",\n",
        "                                      input_shape=input_shape,\n",
        "                                      classes=5,\n",
        "                                      classifier_activation='softmax',\n",
        "                                      pooling='max') \n",
        "\n",
        "# efficient_1.summary()"
      ],
      "metadata": {
        "id": "NkTOMSue7ePX",
        "colab": {
          "base_uri": "https://localhost:8080/"
        },
        "outputId": "9327e1fb-0738-4fdc-a4d1-6b63fc9fc6bf"
      },
      "execution_count": 110,
      "outputs": [
        {
          "output_type": "stream",
          "name": "stdout",
          "text": [
            "Downloading data from https://storage.googleapis.com/keras-applications/efficientnetb1_notop.h5\n",
            "27025408/27018416 [==============================] - 0s 0us/step\n",
            "27033600/27018416 [==============================] - 0s 0us/step\n"
          ]
        }
      ]
    },
    {
      "cell_type": "code",
      "source": [
        "# You should be able to divide sample_amount by batch_size\n",
        "train_features_1, train_labels_1 = extract_features(train_dir, 800, out_size = 1280, \n",
        "                                                    transfer = efficient_1, batch_size = 5, n_class = 5) \n",
        "test_features_1, test_labels_1 = extract_features(test_dir, 200, out_size = 1280, \n",
        "                                                    transfer = efficient_1, batch_size = 5, n_class = 5)\n",
        "print(\"DONE\")\n",
        "\n",
        "eff_model_1 = Sequential()\n",
        "eff_model_1.add(tf.keras.layers.BatchNormalization(axis=-1, momentum=0.99, epsilon=0.001))\n",
        "eff_model_1.add(layers.Dense(512, \n",
        "                       kernel_regularizer   = tf.keras.regularizers.l2(l = 0.05),\n",
        "                       activity_regularizer = tf.keras.regularizers.l1(0.05),\n",
        "                       bias_regularizer     = tf.keras.regularizers.l1(0.05),\n",
        "                       activation='relu', \n",
        "                       input_dim=1280))\n",
        "\n",
        "eff_model_1.add(layers.Dense(5, activation='softmax'))\n",
        "\n",
        "eff_model_1.compile(optimizer=tf.keras.optimizers.RMSprop(lr=1e-4),\n",
        "              loss='categorical_crossentropy',\n",
        "              metrics=['accuracy'])\n",
        "\n",
        "eff_model_1.fit(train_features_1, train_labels_1,\n",
        "                    epochs=200,\n",
        "                    # batch_size=10,\n",
        "                    verbose = 0,\n",
        "                    validation_data=(test_features_1, test_labels_1))\n",
        "print(\"Fitting Done\")\n",
        "\n",
        "\n",
        "loss_acc(eff_model_1)"
      ],
      "metadata": {
        "colab": {
          "base_uri": "https://localhost:8080/",
          "height": 475
        },
        "id": "rigLSGfa7yKo",
        "outputId": "8b8278a8-aecf-4745-b6ae-1f1eb6ca94be"
      },
      "execution_count": 111,
      "outputs": [
        {
          "output_type": "stream",
          "name": "stdout",
          "text": [
            "Found 800 images belonging to 5 classes.\n",
            "Found 200 images belonging to 5 classes.\n",
            "DONE\n",
            "Fitting Done\n"
          ]
        },
        {
          "output_type": "display_data",
          "data": {
            "text/plain": [
              "<Figure size 1440x432 with 2 Axes>"
            ],
            "image/png": "[encoded data removed]"
          },
          "metadata": {
            "needs_background": "light"
          }
        }
      ]
    },
    {
      "cell_type": "code",
      "source": [
        "pred = eff_model_1.predict(test_features_1)\n",
        "y_pred = np.argmax(pred, axis = 1)\n",
        "y_true = np.argmax(test_labels_1, axis = 1)\n",
        "\n",
        "labels = list(train_generator.class_indices.keys())\n",
        "\n",
        "cf_matrix_test  = confusion_matrix(y_true, y_pred)\n",
        "\n",
        "print(classification_report(y_true, y_pred, target_names=labels))\n",
        "\n",
        "\n",
        "g = sns.heatmap(cf_matrix_test, annot=True, cmap='Blues')\n",
        "\n",
        "\n",
        "g.xaxis.set_ticklabels(labels)\n",
        "g.yaxis.set_ticklabels(labels)\n",
        "\n",
        "g.set_xlabel('Predicted Label', fontsize=10)\n",
        "g.set_ylabel('true Label', fontsize=10);\n"
      ],
      "metadata": {
        "colab": {
          "base_uri": "https://localhost:8080/",
          "height": 497
        },
        "id": "ljoT3NSrniiY",
        "outputId": "9d0de093-318d-48e4-dd5d-b6472832d583"
      },
      "execution_count": 137,
      "outputs": [
        {
          "output_type": "stream",
          "name": "stdout",
          "text": [
            "              precision    recall  f1-score   support\n",
            "\n",
            "          AS       0.93      1.00      0.96        40\n",
            "          MR       0.94      0.85      0.89        40\n",
            "          MS       0.97      0.88      0.92        40\n",
            "         MVP       0.89      1.00      0.94        40\n",
            "           N       0.97      0.97      0.97        40\n",
            "\n",
            "    accuracy                           0.94       200\n",
            "   macro avg       0.94      0.94      0.94       200\n",
            "weighted avg       0.94      0.94      0.94       200\n",
            "\n"
          ]
        },
        {
          "output_type": "display_data",
          "data": {
            "text/plain": [
              "<Figure size 432x288 with 2 Axes>"
            ],
            "image/png": "[encoded data removed]"
          },
          "metadata": {
            "needs_background": "light"
          }
        }
      ]
    }
  ],
  "metadata": {
    "accelerator": "GPU",
    "colab": {
      "collapsed_sections": [],
      "name": "Copy of Modeling-CNN-and-Transfer-Learning.ipynb",
      "provenance": []
    },
    "gpuClass": "standard",
    "kernelspec": {
      "display_name": "Python 3",
      "language": "python",
      "name": "python3"
    },
    "language_info": {
      "codemirror_mode": {
        "name": "ipython",
        "version": 3
      },
      "file_extension": ".py",
      "mimetype": "text/x-python",
      "name": "python",
      "nbconvert_exporter": "python",
      "pygments_lexer": "ipython3",
      "version": "3.8.5"
    },
    "latex_envs": {
      "LaTeX_envs_menu_present": true,
      "autoclose": false,
      "autocomplete": true,
      "bibliofile": "biblio.bib",
      "cite_by": "apalike",
      "current_citInitial": 1,
      "eqLabelWithNumbers": true,
      "eqNumInitial": 1,
      "hotkeys": {
        "equation": "Ctrl-E",
        "itemize": "Ctrl-I"
      },
      "labels_anchors": false,
      "latex_user_defs": false,
      "report_style_numbering": false,
      "user_envs_cfg": false
    },
    "toc": {
      "base_numbering": 1,
      "nav_menu": {},
      "number_sections": true,
      "sideBar": true,
      "skip_h1_title": false,
      "title_cell": "Table of Contents",
      "title_sidebar": "Contents",
      "toc_cell": false,
      "toc_position": {},
      "toc_section_display": true,
      "toc_window_display": false
    },
    "varInspector": {
      "cols": {
        "lenName": 16,
        "lenType": 16,
        "lenVar": 40
      },
      "kernels_config": {
        "python": {
          "delete_cmd_postfix": "",
          "delete_cmd_prefix": "del ",
          "library": "var_list.py",
          "varRefreshCmd": "print(var_dic_list())"
        },
        "r": {
          "delete_cmd_postfix": ") ",
          "delete_cmd_prefix": "rm(",
          "library": "var_list.r",
          "varRefreshCmd": "cat(var_dic_list()) "
        }
      },
      "types_to_exclude": [
        "module",
        "function",
        "builtin_function_or_method",
        "instance",
        "_Feature"
      ],
      "window_display": false
    }
  },
  "nbformat": 4,
  "nbformat_minor": 0
}